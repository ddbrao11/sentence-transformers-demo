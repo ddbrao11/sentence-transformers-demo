{
 "cells": [
  {
   "cell_type": "markdown",
   "id": "c96405b6",
   "metadata": {},
   "source": [
    "# Sentence Transformers Demo Notebook\n",
    "\n",
    "Demo for embeddings and semantic search."
   ]
  },
  {
   "cell_type": "code",
   "execution_count": null,
   "id": "783b46bc",
   "metadata": {},
   "outputs": [],
   "source": [
    "!pip install -q sentence-transformers\n"
   ]
  },
  {
   "cell_type": "code",
   "execution_count": null,
   "id": "7914efa9",
   "metadata": {},
   "outputs": [],
   "source": [
    "from sentence_transformers import SentenceTransformer, util\n",
    "import numpy as np\n"
   ]
  },
  {
   "cell_type": "code",
   "execution_count": null,
   "id": "a67519df",
   "metadata": {},
   "outputs": [],
   "source": [
    "model = SentenceTransformer('all-MiniLM-L6-v2')\n",
    "print('Model loaded:', model.__class__.__name__)\n"
   ]
  },
  {
   "cell_type": "code",
   "execution_count": null,
   "id": "e59aebdf",
   "metadata": {},
   "outputs": [],
   "source": [
    "sentences = [\n",
    "    \"I love playing football.\",\n",
    "    \"Soccer is my favorite sport.\",\n",
    "    \"Artificial intelligence is transforming the world.\",\n",
    "    \"Deep learning and neural networks are part of AI.\",\n",
    "    \"How to fix a bike tire?\"\n",
    "]\n",
    "\n",
    "embeddings = model.encode(sentences, convert_to_tensor=True)\n",
    "print('Embeddings shape:', embeddings.shape)\n",
    "\n",
    "sim_score = util.pytorch_cos_sim(embeddings[0], embeddings[1])\n",
    "print(f\"Similarity between '{sentences[0]}' and '{sentences[1]}' -> {sim_score.item():.4f}\")\n"
   ]
  },
  {
   "cell_type": "code",
   "execution_count": null,
   "id": "144a91cd",
   "metadata": {},
   "outputs": [],
   "source": [
    "corpus = [\n",
    "    \"How do I replace a punctured bicycle tire?\",\n",
    "    \"Best ways to repair a flat bike tire.\",\n",
    "    \"Tips for maintaining your bicycle chain.\",\n",
    "    \"Where to learn Python programming.\",\n",
    "    \"What is the difference between AI and machine learning?\",\n",
    "    \"Steps to change a car tire.\",\n",
    "    \"Soccer techniques for beginners.\"\n",
    "]\n",
    "\n",
    "queries = [\n",
    "    \"How to fix a punctured bike tire?\",\n",
    "    \"I want to learn about AI vs machine learning\"\n",
    "]\n",
    "\n",
    "corpus_embeddings = model.encode(corpus, convert_to_tensor=True)\n",
    "query_embeddings = model.encode(queries, convert_to_tensor=True)\n",
    "\n",
    "hits = util.semantic_search(query_embeddings, corpus_embeddings, top_k=3)\n",
    "\n",
    "for i, query in enumerate(queries):\n",
    "    print(f\"\\nQuery: {query}\")\n",
    "    for rank, hit in enumerate(hits[i], start=1):\n",
    "        cid = hit['corpus_id']\n",
    "        score = hit['score']\n",
    "        print(f\"  {rank}. (score: {score:.4f}) {corpus[cid]}\")\n"
   ]
  },
  {
   "cell_type": "code",
   "execution_count": null,
   "id": "a8911889",
   "metadata": {},
   "outputs": [],
   "source": [
    "cosine_scores = util.cos_sim(corpus_embeddings, corpus_embeddings).cpu().numpy()\n",
    "print('\\nCosine similarity matrix shape:', cosine_scores.shape)\n",
    "\n",
    "# Top similar document per corpus item (excluding self)\n",
    "for idx, row in enumerate(cosine_scores):\n",
    "    row[idx] = -1.0\n",
    "    top_idx = np.argmax(row)\n",
    "    print(f\"  '{corpus[idx]}' -> '{corpus[top_idx]}' (score: {row[top_idx]:.4f})\")\n"
   ]
  }
 ],
 "metadata": {
  "kernelspec": {
   "display_name": "Python 3",
   "name": "python3"
  },
  "language_info": {
   "name": "python"
  }
 },
 "nbformat": 4,
 "nbformat_minor": 5
}
